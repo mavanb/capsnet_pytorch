{
 "cells": [
  {
   "cell_type": "code",
   "execution_count": 96,
   "metadata": {},
   "outputs": [],
   "source": [
    "import torch\n",
    "import matplotlib\n",
    "import matplotlib.pyplot as plt"
   ]
  },
  {
   "cell_type": "code",
   "execution_count": 127,
   "metadata": {
    "scrolled": true
   },
   "outputs": [],
   "source": [
    "import pickle\n",
    "from train_toy import RoutingIter, RoutingPoint\n",
    "\n",
    "with open(\"experiments/2dgaussian/test1\", \"rb\") as f:\n",
    "    routing_points = pickle.load(f)"
   ]
  },
  {
   "cell_type": "code",
   "execution_count": 200,
   "metadata": {},
   "outputs": [],
   "source": [
    "from nets import _CapsNet\n",
    "\n",
    "def plot_routing_steps(batch_index, routing_point, plot_latent_space =False):\n",
    "\n",
    "    b, rp = batch_index, routing_point\n",
    "\n",
    "    # print info\n",
    "    print(\"Epoch: {}\".format(rp.epoch))\n",
    "    print(\"Iter: {}\".format(rp.iter))\n",
    "    print(\"Accuracy {:.2f}\".format(rp.acc))\n",
    "    fig = plt.figure(figsize=(14, 4))\n",
    "\n",
    "    # prediction vectors\n",
    "    u_jin = rp.u_jin[b, :, :, :]\n",
    "\n",
    "    # latent point used to generate data\n",
    "    latent = rp.latent[b, :]\n",
    "\n",
    "    # label of gaussian from which latent point sampled\n",
    "    label = rp.label[b]\n",
    "\n",
    "    print(\"Label {}\".format(label))\n",
    "\n",
    "    # colors\n",
    "    green = [0.2, 0.8, 0.2]   # true class / label class\n",
    "    red = [0.8, 0.2, 0.2]     # wrong class\n",
    "\n",
    "    xlim=(-0.25,0.25)\n",
    "    ylim=(-0.25,0.25)\n",
    "\n",
    "    def shared_properties(axes, plot_latent_space):\n",
    "\n",
    "        axes.autoscale(True, tight=False)\n",
    "\n",
    "        if plot_latent_space:\n",
    "\n",
    "            # add latent point used to generate data\n",
    "            ax.scatter(latent[0], latent[1], marker=\"x\")\n",
    "            ## not axes??\n",
    "            # add means of gaussians, latent point sampled from gree\n",
    "            ax.scatter([1, -1], [1, -1], marker=\"s\", c=[green, red] if label else [red, green])\n",
    "        return axes\n",
    "\n",
    "    for step in range(3): \n",
    "\n",
    "        c_ji = rp.routing_iters[step].c_ji[b, :, :]\n",
    "        s_jn = rp.routing_iters[step].s_jn[b, :, :]\n",
    "        s_jn_mean = s_jn / c_ji.sum(axis=1)\n",
    "        v_jn = rp.routing_iters[step].v_jn[b, :, :]\n",
    "        logits_j = _CapsNet.compute_logits(torch.from_numpy(v_jn))\n",
    "\n",
    "        ax = fig.add_subplot(1,3,step+1)\n",
    "        ax.set_title('step {}, logits ({:.4f}, {:.4f})'.format(step, logits_j[0], logits_j[1]))\n",
    "        ax = shared_properties(ax, plot_latent_space)\n",
    "\n",
    "        for j in range(2):\n",
    "\n",
    "            color = green if j==label else red\n",
    "\n",
    "            # predictions weighted by c_ij\n",
    "            c_i_area = (c_ji[j, :])**30\n",
    "            \n",
    "            c_i_area = c_i_area / (c_ji**10).sum()\n",
    "            c_i_area = 4000 * c_i_area\n",
    "            \n",
    "            ax.scatter(u_jin[j, :, 0] , u_jin[j, :, 1] , s=c_i_area, facecolors='none', edgecolors=color)\n",
    "\n",
    "            # prediction mean\n",
    "            ax.scatter(s_jn_mean[j, 0], s_jn[j, 1], marker=\"o\", c=color)\n",
    "\n",
    "            # squashed prediction mean\n",
    "            ax.scatter(v_jn[j, 1], v_jn[j, 1], marker=\"D\", c=color)\n",
    "\n",
    "\n"
   ]
  },
  {
   "cell_type": "code",
   "execution_count": 201,
   "metadata": {},
   "outputs": [
    {
     "name": "stdout",
     "output_type": "stream",
     "text": [
      "Epoch: 3\n",
      "Iter: 5\n",
      "Accuracy 0.97\n",
      "Label 1\n"
     ]
    },
    {
     "data": {
      "image/png": "[encoded data removed]",
      "text/plain": [
       "<Figure size 1008x288 with 3 Axes>"
      ]
     },
     "metadata": {},
     "output_type": "display_data"
    }
   ],
   "source": [
    "routing_point = routing_points[101]     # routing point index\n",
    "batch_index =  43# batch_index\n",
    "plot_routing_steps(batch_index, routing_point, plot_latent_space=False)"
   ]
  },
  {
   "cell_type": "code",
   "execution_count": null,
   "metadata": {},
   "outputs": [],
   "source": []
  }
 ],
 "metadata": {
  "kernelspec": {
   "display_name": "Python py36to",
   "language": "python",
   "name": "py36to"
  },
  "language_info": {
   "codemirror_mode": {
    "name": "ipython",
    "version": 3
   },
   "file_extension": ".py",
   "mimetype": "text/x-python",
   "name": "python",
   "nbconvert_exporter": "python",
   "pygments_lexer": "ipython3",
   "version": "3.6.5"
  }
 },
 "nbformat": 4,
 "nbformat_minor": 2
}
